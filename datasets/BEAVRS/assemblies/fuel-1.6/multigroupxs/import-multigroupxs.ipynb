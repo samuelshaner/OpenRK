{
 "metadata": {
  "name": ""
 },
 "nbformat": 3,
 "nbformat_minor": 0,
 "worksheets": [
  {
   "cells": [
    {
     "cell_type": "code",
     "collapsed": false,
     "input": [
      "from infermc.multigroupxs import MultiGroupXS"
     ],
     "language": "python",
     "metadata": {},
     "outputs": [],
     "prompt_number": 1
    },
    {
     "cell_type": "code",
     "collapsed": false,
     "input": [
      "domain_type = 'cell'\n",
      "domain_id = 10000\n",
      "xs_type = 'absorption'\n",
      "filename = '{0}-{1}-{2}'.format(domain_type, domain_id, xs_type)"
     ],
     "language": "python",
     "metadata": {},
     "outputs": [],
     "prompt_number": 2
    },
    {
     "cell_type": "code",
     "collapsed": false,
     "input": [
      "xs = MultiGroupXS()\n",
      "xs.importAllResults(filename, format='pkl')"
     ],
     "language": "python",
     "metadata": {},
     "outputs": [],
     "prompt_number": 3
    },
    {
     "cell_type": "code",
     "collapsed": false,
     "input": [
      "xs.printXS(subdomain=4)"
     ],
     "language": "python",
     "metadata": {},
     "outputs": [
      {
       "output_type": "stream",
       "stream": "stdout",
       "text": [
        "Multi-Group XS\n",
        "\tType           =\tabsorption\n",
        "\tDomain Type    =\tdistribcell\n",
        "\tDomain ID      =\t10000\n",
        "\tCross-Sections [cm^-1]:\n",
        "            Group 1 [6.25e-07   - 10.0      MeV]:\t(2.43+/-1.00)e-02\n",
        "            Group 2 [0.0        - 6.25e-07  MeV]:\t(2.14+/-0.42)e-01\n",
        "\n"
       ]
      }
     ],
     "prompt_number": 4
    },
    {
     "cell_type": "code",
     "collapsed": false,
     "input": [
      "xs.printPDF(subdomain=0, filename='test', uncertainties=True)"
     ],
     "language": "python",
     "metadata": {},
     "outputs": [],
     "prompt_number": 11
    },
    {
     "cell_type": "code",
     "collapsed": false,
     "input": [
      "from wand.image import Image as WImage\n",
      "img = WImage(filename='test.pdf')\n",
      "img"
     ],
     "language": "python",
     "metadata": {},
     "outputs": [
      {
       "metadata": {},
       "output_type": "pyout",
       "png": "[encoded data removed]",
       "prompt_number": 12,
       "text": [
        "<wand.image.Image: cc62800 'PDF' (394x75)>"
       ]
      }
     ],
     "prompt_number": 12
    }
   ],
   "metadata": {}
  }
 ]
}